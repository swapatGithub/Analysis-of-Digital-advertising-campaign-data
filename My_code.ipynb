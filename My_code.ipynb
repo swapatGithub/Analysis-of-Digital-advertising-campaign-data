{
 "cells": [
  {
   "cell_type": "code",
   "execution_count": 1,
   "metadata": {
    "collapsed": false
   },
   "outputs": [],
   "source": [
    "import pandas as pd\n",
    "import numpy as np\n",
    "import matplotlib as mp"
   ]
  },
  {
   "cell_type": "code",
   "execution_count": 2,
   "metadata": {
    "collapsed": false
   },
   "outputs": [],
   "source": [
    "impr_data = pd.read_csv(\"C:/Users/spawar5/Downloads/query_result/query_result.csv\")"
   ]
  },
  {
   "cell_type": "code",
   "execution_count": 3,
   "metadata": {
    "collapsed": false
   },
   "outputs": [],
   "source": [
    "#Event_type column does not have any null value\n",
    "#impr_data['event_type'][impr_data[\"event_type\"]==\"pv_conv\"].count()\n",
    "#impr_data.event_type.unique()\n",
    "#Records with event_type as 'imp' - 1514545\n",
    "#Records with event_type as 'click' - 794\n",
    "#Records with event_type as 'pc_conv' - 22\n",
    "#Records with event_type as 'pv_conv' - 1994"
   ]
  },
  {
   "cell_type": "code",
   "execution_count": 4,
   "metadata": {
    "collapsed": true
   },
   "outputs": [],
   "source": [
    "#Segregating the data into 4 different event types\n",
    "impr_data_imp = impr_data[impr_data[\"event_type\"]==\"imp\"]\n",
    "impr_data_click = impr_data[impr_data[\"event_type\"]==\"click\"]\n",
    "impr_data_pc_conv = impr_data[impr_data[\"event_type\"]==\"pc_conv\"]\n",
    "impr_data_pv_conv = impr_data[impr_data[\"event_type\"]==\"pv_conv\"]"
   ]
  },
  {
   "cell_type": "code",
   "execution_count": 5,
   "metadata": {
    "collapsed": false
   },
   "outputs": [],
   "source": [
    "#Advertisements which are viewed and later or clicked at some point of time\n",
    "events_viewed_and_clicked = []\n",
    "for ind, val in impr_data_click[\"user_id_64\"].iteritems():\n",
    "    #print (ind, 'and', val)\n",
    "    if val in impr_data_imp[\"user_id_64\"].values: \n",
    "        height = impr_data_click[\"height\"].get(ind)\n",
    "        width = impr_data_click[\"width\"].get(ind)\n",
    "        C_id = impr_data_click[\"creative_id\"].get(ind)\n",
    "        camp_id = impr_data_click[\"campaign_id\"].get(ind)\n",
    "        for inde, seri in impr_data_imp[impr_data_imp[\"user_id_64\"]==val].iterrows():            \n",
    "            if height==seri[3] and width==seri[2] and C_id==seri[30] and camp_id==seri[29]:\n",
    "                if inde not in events_viewed_and_clicked:\n",
    "                    events_viewed_and_clicked.append(inde)            \n",
    "            \n",
    "#print(len(events_viewed_and_clicked))\n",
    "#NUmber of events in impression which are clicked at some point in time by same user - 1765"
   ]
  },
  {
   "cell_type": "code",
   "execution_count": 6,
   "metadata": {
    "collapsed": false
   },
   "outputs": [],
   "source": [
    "#Deleting these events from impression data as we need to analyse view data only\n",
    "impr_data_imp_noClicks = impr_data_imp.drop(events_viewed_and_clicked)\n",
    "impr_data_imp_withClicks = impr_data_imp.loc[events_viewed_and_clicked]\n",
    "#'impr_data_imp_noClicks' dataframe has events which are viewed only and not clicked, count of rows - 1512780\n",
    "#'impr_data_imp_withClicks' dataframe has events which are viewed and clicked"
   ]
  },
  {
   "cell_type": "code",
   "execution_count": 7,
   "metadata": {
    "collapsed": false
   },
   "outputs": [],
   "source": [
    "#Checking number of ads which are viewed and pv_converted\n",
    "list_pv_conv_viewed=[]\n",
    "users_notViewedAds_converted=[]\n",
    "\n",
    "for inde, seri in impr_data_pv_conv.iterrows():\n",
    "    if seri[15] in impr_data_imp_noClicks['user_id_64'].values:\n",
    "        for inde1, seri1 in impr_data_imp_noClicks[impr_data_imp_noClicks[\"user_id_64\"]==seri[15]].iterrows():\n",
    "            if seri[3]==seri1[3] and seri[2]==seri1[2] and seri[30]==seri1[30] and seri[29]==seri1[29]:           \n",
    "                if inde1 not in list_pv_conv_viewed:\n",
    "                    list_pv_conv_viewed.append(inde1)\n",
    "    else:\n",
    "        if seri[15] not in users_notViewedAds_converted:\n",
    "            users_notViewedAds_converted.append(seri[15])\n",
    "            \n",
    "#Dataframe having ads which are viewed and converted\n",
    "df_viewed_PV_conv = impr_data_imp_noClicks.loc[list_pv_conv_viewed]\n",
    "#Dataframe having ads which are viewed but not converted\n",
    "df_viewed_NOT_PVconv = impr_data_imp_noClicks.drop(list_pv_conv_viewed)"
   ]
  },
  {
   "cell_type": "code",
   "execution_count": 8,
   "metadata": {
    "collapsed": false
   },
   "outputs": [
    {
     "name": "stdout",
     "output_type": "stream",
     "text": [
      "num of users viewed and converted -  504 And number of users in converted only -  1128\n"
     ]
    }
   ],
   "source": [
    "print('num of users viewed and converted - ',len(df_viewed_PV_conv.user_id_64.unique()), 'And number of users in converted only - ',len(users_notViewedAds_converted))"
   ]
  },
  {
   "cell_type": "code",
   "execution_count": 9,
   "metadata": {
    "collapsed": false
   },
   "outputs": [],
   "source": [
    "df_viewed_PV_conv.to_csv(path_or_buf='C:/Users/spawar5/Downloads/shipyard/data_to_analyze.csv')"
   ]
  },
  {
   "cell_type": "code",
   "execution_count": 10,
   "metadata": {
    "collapsed": false
   },
   "outputs": [],
   "source": [
    "user_ad_group_converted = df_viewed_PV_conv.groupby(['user_id_64','campaign_id','creative_id'])\n",
    "user_ad_group_notConverted = df_viewed_NOT_PVconv.groupby(['user_id_64','campaign_id','creative_id'])"
   ]
  },
  {
   "cell_type": "code",
   "execution_count": 11,
   "metadata": {
    "collapsed": false
   },
   "outputs": [
    {
     "name": "stdout",
     "output_type": "stream",
     "text": [
      "num of user-Ad combination viewed and converted -  504\n",
      "num of user-Ad combination viewed and NOT converted -  917870\n"
     ]
    }
   ],
   "source": [
    "print('num of user-Ad combination viewed and converted - ',len(user_ad_group_converted.groups.keys()))\n",
    "print('num of user-Ad combination viewed and NOT converted - ',len(user_ad_group_notConverted.groups.keys()))"
   ]
  },
  {
   "cell_type": "code",
   "execution_count": 12,
   "metadata": {
    "collapsed": false
   },
   "outputs": [],
   "source": [
    "#Creating initial columns for two dataframes\n",
    "uIDs = []\n",
    "camp_ids = []\n",
    "creat_ids = []\n",
    "for each in list(user_ad_group_converted.indices.keys()):\n",
    "    uIDs.append(each[0])\n",
    "    camp_ids.append(each[1])\n",
    "    creat_ids.append(each[2])\n",
    "\n",
    "uIDs1 = []\n",
    "camp_ids1 = []\n",
    "creat_ids1 = []\n",
    "for each in list(user_ad_group_notConverted.indices.keys()):\n",
    "    uIDs1.append(each[0])\n",
    "    camp_ids1.append(each[1])\n",
    "    creat_ids1.append(each[2])"
   ]
  },
  {
   "cell_type": "code",
   "execution_count": 13,
   "metadata": {
    "collapsed": false
   },
   "outputs": [],
   "source": [
    "#New dataframes having unique row based on user, campaign and creative_ad\n",
    "df_grouped_User_Ad = pd.DataFrame(data={'user_id_64':uIDs,'campaign_id':camp_ids,'creative_id':creat_ids})\n",
    "df_grouped_UserAd_notConverted = pd.DataFrame(data={'user_id_64':uIDs1,'campaign_id':camp_ids1,'creative_id':creat_ids1})"
   ]
  },
  {
   "cell_type": "code",
   "execution_count": 14,
   "metadata": {
    "collapsed": false
   },
   "outputs": [],
   "source": [
    "def cntFoldPos(values):\n",
    "    cnt0=0\n",
    "    cnt1=0\n",
    "    cnt2=0\n",
    "    for each in values:\n",
    "        if each==0:\n",
    "            cnt0=cnt0+1\n",
    "        elif each==1:\n",
    "            cnt1=cnt1+1\n",
    "        elif each==2:\n",
    "            cnt2=cnt2+1\n",
    "    return 0 if cnt0==max(cnt0,cnt1,cnt2) else 1 if cnt1==max(cnt0,cnt1,cnt2) else 2"
   ]
  },
  {
   "cell_type": "code",
   "execution_count": 15,
   "metadata": {
    "collapsed": false
   },
   "outputs": [],
   "source": [
    "#Creating a new columns by aggregating over existing columns based on groups of campaign, creative_ad and user and adding to the dataframes\n",
    "df_grouped_User_Ad['width'] = list(user_ad_group_converted.width.mean())\n",
    "df_grouped_User_Ad['height'] = list(user_ad_group_converted.height.mean())\n",
    "df_grouped_User_Ad['count_ad_viewed'] = list(user_ad_group_converted.datetime.count())\n",
    "df_grouped_User_Ad['max_foldPosition'] = list(user_ad_group_converted.fold_position.apply(cntFoldPos))\n",
    "df_grouped_User_Ad['avg_media_CPM'] = list(user_ad_group_converted.media_cost_dollars_cpm.mean())\n",
    "df_grouped_User_Ad['avg_eap'] = list(user_ad_group_converted.eap.mean())\n",
    "df_grouped_User_Ad['avg_creative_freq'] = list(user_ad_group_converted.creative_freq.mean())\n",
    "df_grouped_User_Ad['time_ad_shown'] = list(user_ad_group_converted.creative_rec.max()- user_ad_group_converted.creative_rec.min())\n",
    "\n",
    "df_grouped_UserAd_notConverted['width'] = list(user_ad_group_notConverted.width.mean())\n",
    "df_grouped_UserAd_notConverted['height'] = list(user_ad_group_notConverted.height.mean())\n",
    "df_grouped_UserAd_notConverted['count_ad_viewed'] = list(user_ad_group_notConverted.datetime.count())\n",
    "df_grouped_UserAd_notConverted['max_foldPosition'] = list(user_ad_group_notConverted.fold_position.apply(cntFoldPos))\n",
    "df_grouped_UserAd_notConverted['avg_media_CPM'] = list(user_ad_group_notConverted.media_cost_dollars_cpm.mean())\n",
    "df_grouped_UserAd_notConverted['avg_eap'] = list(user_ad_group_notConverted.eap.mean())\n",
    "df_grouped_UserAd_notConverted['avg_creative_freq'] = list(user_ad_group_notConverted.creative_freq.mean())\n",
    "df_grouped_UserAd_notConverted['time_ad_shown'] = list(user_ad_group_notConverted.creative_rec.max()- user_ad_group_notConverted.creative_rec.min())\n"
   ]
  },
  {
   "cell_type": "code",
   "execution_count": 16,
   "metadata": {
    "collapsed": false
   },
   "outputs": [],
   "source": [
    "#creating a label variable\n",
    "df_grouped_User_Ad['converted'] = 1\n",
    "df_grouped_UserAd_notConverted['converted'] = 0"
   ]
  },
  {
   "cell_type": "code",
   "execution_count": 17,
   "metadata": {
    "collapsed": false
   },
   "outputs": [],
   "source": [
    "df_final = df_grouped_User_Ad.append(df_grouped_UserAd_notConverted)"
   ]
  },
  {
   "cell_type": "code",
   "execution_count": 18,
   "metadata": {
    "collapsed": false
   },
   "outputs": [],
   "source": [
    "#Shuffling the dataframe rows\n",
    "df_final = df_final.iloc[np.random.permutation(len(df_final))]\n",
    "df_final = df_final.reset_index(drop=True)"
   ]
  },
  {
   "cell_type": "code",
   "execution_count": 23,
   "metadata": {
    "collapsed": false
   },
   "outputs": [],
   "source": [
    "#Using SMOTE(over-sampling) + ENN(under-sampling) algorithm to do over and under sampling\n",
    "from imblearn.combine import SMOTEENN"
   ]
  },
  {
   "cell_type": "code",
   "execution_count": null,
   "metadata": {
    "collapsed": false
   },
   "outputs": [],
   "source": [
    "#Applying SMOTEEN algorithm\n",
    "sm = SMOTEENN()\n",
    "X_resampled, y_resampled = sm.fit_sample(df_final[df_final.columns[3:-1]], df_final['converted'])"
   ]
  },
  {
   "cell_type": "code",
   "execution_count": 21,
   "metadata": {
    "collapsed": false
   },
   "outputs": [
    {
     "name": "stdout",
     "output_type": "stream",
     "text": [
      "Negative responses -  504\n",
      "Positive responses -  504\n"
     ]
    }
   ],
   "source": [
    "print('Negative responses - ',y_resampled.nonzero()[0].size)\n",
    "print('Positive responses - ',y_resampled.size-y_resampled.nonzero()[0].size)"
   ]
  },
  {
   "cell_type": "code",
   "execution_count": 39,
   "metadata": {
    "collapsed": true
   },
   "outputs": [],
   "source": [
    "###########Implementing a logistic model####################\n",
    "from sklearn.cross_validation import train_test_split"
   ]
  },
  {
   "cell_type": "code",
   "execution_count": 88,
   "metadata": {
    "collapsed": false
   },
   "outputs": [
    {
     "ename": "ValueError",
     "evalue": "Found input variables with inconsistent numbers of samples: [1232110, 1232113]",
     "output_type": "error",
     "traceback": [
      "\u001b[0;31m---------------------------------------------------------------------------\u001b[0m",
      "\u001b[0;31mValueError\u001b[0m                                Traceback (most recent call last)",
      "\u001b[0;32m<ipython-input-88-1643756b13df>\u001b[0m in \u001b[0;36m<module>\u001b[0;34m()\u001b[0m\n\u001b[1;32m      3\u001b[0m \u001b[1;33m\u001b[0m\u001b[0m\n\u001b[1;32m      4\u001b[0m \u001b[1;31m#70-30 training-test data split\u001b[0m\u001b[1;33m\u001b[0m\u001b[1;33m\u001b[0m\u001b[0m\n\u001b[0;32m----> 5\u001b[0;31m \u001b[0mXtrain\u001b[0m\u001b[1;33m,\u001b[0m \u001b[0mXtest\u001b[0m\u001b[1;33m,\u001b[0m \u001b[0mYtrain\u001b[0m\u001b[1;33m,\u001b[0m \u001b[0mYtest\u001b[0m \u001b[1;33m=\u001b[0m \u001b[0mtrain_test_split\u001b[0m\u001b[1;33m(\u001b[0m\u001b[0mfeatures_one\u001b[0m\u001b[1;33m,\u001b[0m\u001b[0mtarget\u001b[0m\u001b[1;33m,\u001b[0m\u001b[0mrandom_state\u001b[0m\u001b[1;33m=\u001b[0m\u001b[1;36m1\u001b[0m\u001b[1;33m)\u001b[0m\u001b[1;33m\u001b[0m\u001b[0m\n\u001b[0m",
      "\u001b[0;32mc:\\miniconda3\\lib\\site-packages\\sklearn\\cross_validation.py\u001b[0m in \u001b[0;36mtrain_test_split\u001b[0;34m(*arrays, **options)\u001b[0m\n\u001b[1;32m   1973\u001b[0m     \u001b[1;32mif\u001b[0m \u001b[0mtest_size\u001b[0m \u001b[1;32mis\u001b[0m \u001b[1;32mNone\u001b[0m \u001b[1;32mand\u001b[0m \u001b[0mtrain_size\u001b[0m \u001b[1;32mis\u001b[0m \u001b[1;32mNone\u001b[0m\u001b[1;33m:\u001b[0m\u001b[1;33m\u001b[0m\u001b[0m\n\u001b[1;32m   1974\u001b[0m         \u001b[0mtest_size\u001b[0m \u001b[1;33m=\u001b[0m \u001b[1;36m0.25\u001b[0m\u001b[1;33m\u001b[0m\u001b[0m\n\u001b[0;32m-> 1975\u001b[0;31m     \u001b[0marrays\u001b[0m \u001b[1;33m=\u001b[0m \u001b[0mindexable\u001b[0m\u001b[1;33m(\u001b[0m\u001b[1;33m*\u001b[0m\u001b[0marrays\u001b[0m\u001b[1;33m)\u001b[0m\u001b[1;33m\u001b[0m\u001b[0m\n\u001b[0m\u001b[1;32m   1976\u001b[0m     \u001b[1;32mif\u001b[0m \u001b[0mstratify\u001b[0m \u001b[1;32mis\u001b[0m \u001b[1;32mnot\u001b[0m \u001b[1;32mNone\u001b[0m\u001b[1;33m:\u001b[0m\u001b[1;33m\u001b[0m\u001b[0m\n\u001b[1;32m   1977\u001b[0m         cv = StratifiedShuffleSplit(stratify, test_size=test_size,\n",
      "\u001b[0;32mc:\\miniconda3\\lib\\site-packages\\sklearn\\utils\\validation.py\u001b[0m in \u001b[0;36mindexable\u001b[0;34m(*iterables)\u001b[0m\n\u001b[1;32m    204\u001b[0m         \u001b[1;32melse\u001b[0m\u001b[1;33m:\u001b[0m\u001b[1;33m\u001b[0m\u001b[0m\n\u001b[1;32m    205\u001b[0m             \u001b[0mresult\u001b[0m\u001b[1;33m.\u001b[0m\u001b[0mappend\u001b[0m\u001b[1;33m(\u001b[0m\u001b[0mnp\u001b[0m\u001b[1;33m.\u001b[0m\u001b[0marray\u001b[0m\u001b[1;33m(\u001b[0m\u001b[0mX\u001b[0m\u001b[1;33m)\u001b[0m\u001b[1;33m)\u001b[0m\u001b[1;33m\u001b[0m\u001b[0m\n\u001b[0;32m--> 206\u001b[0;31m     \u001b[0mcheck_consistent_length\u001b[0m\u001b[1;33m(\u001b[0m\u001b[1;33m*\u001b[0m\u001b[0mresult\u001b[0m\u001b[1;33m)\u001b[0m\u001b[1;33m\u001b[0m\u001b[0m\n\u001b[0m\u001b[1;32m    207\u001b[0m     \u001b[1;32mreturn\u001b[0m \u001b[0mresult\u001b[0m\u001b[1;33m\u001b[0m\u001b[0m\n\u001b[1;32m    208\u001b[0m \u001b[1;33m\u001b[0m\u001b[0m\n",
      "\u001b[0;32mc:\\miniconda3\\lib\\site-packages\\sklearn\\utils\\validation.py\u001b[0m in \u001b[0;36mcheck_consistent_length\u001b[0;34m(*arrays)\u001b[0m\n\u001b[1;32m    179\u001b[0m     \u001b[1;32mif\u001b[0m \u001b[0mlen\u001b[0m\u001b[1;33m(\u001b[0m\u001b[0muniques\u001b[0m\u001b[1;33m)\u001b[0m \u001b[1;33m>\u001b[0m \u001b[1;36m1\u001b[0m\u001b[1;33m:\u001b[0m\u001b[1;33m\u001b[0m\u001b[0m\n\u001b[1;32m    180\u001b[0m         raise ValueError(\"Found input variables with inconsistent numbers of\"\n\u001b[0;32m--> 181\u001b[0;31m                          \" samples: %r\" % [int(l) for l in lengths])\n\u001b[0m\u001b[1;32m    182\u001b[0m \u001b[1;33m\u001b[0m\u001b[0m\n\u001b[1;32m    183\u001b[0m \u001b[1;33m\u001b[0m\u001b[0m\n",
      "\u001b[0;31mValueError\u001b[0m: Found input variables with inconsistent numbers of samples: [1232110, 1232113]"
     ]
    }
   ],
   "source": [
    "target = y_resampled\n",
    "features_one = X_resampled[:][3:]\n",
    "\n",
    "#70-30 training-test data split\n",
    "Xtrain, Xtest, Ytrain, Ytest = train_test_split(features_one,target,random_state=1)"
   ]
  },
  {
   "cell_type": "code",
   "execution_count": 41,
   "metadata": {
    "collapsed": true
   },
   "outputs": [],
   "source": [
    "from sklearn import linear_model, decomposition, datasets"
   ]
  },
  {
   "cell_type": "code",
   "execution_count": 47,
   "metadata": {
    "collapsed": false
   },
   "outputs": [],
   "source": [
    "logistic = linear_model.LogisticRegression()\n",
    "my_logit_one = logistic.fit(Xtrain, Ytrain)"
   ]
  }
 ],
 "metadata": {
  "kernelspec": {
   "display_name": "Python 3",
   "language": "python",
   "name": "python3"
  },
  "language_info": {
   "codemirror_mode": {
    "name": "ipython",
    "version": 3
   },
   "file_extension": ".py",
   "mimetype": "text/x-python",
   "name": "python",
   "nbconvert_exporter": "python",
   "pygments_lexer": "ipython3",
   "version": "3.5.2"
  }
 },
 "nbformat": 4,
 "nbformat_minor": 1
}
